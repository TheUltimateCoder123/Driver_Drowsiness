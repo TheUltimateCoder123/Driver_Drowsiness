{
 "cells": [
  {
   "cell_type": "code",
   "execution_count": 1,
   "metadata": {
    "id": "UgNq92uhq1cH"
   },
   "outputs": [],
   "source": [
    "import numpy as np"
   ]
  },
  {
   "cell_type": "code",
   "execution_count": 2,
   "metadata": {
    "id": "m-sVColorCkb"
   },
   "outputs": [],
   "source": [
    "import pandas as pd"
   ]
  },
  {
   "cell_type": "code",
   "execution_count": 3,
   "metadata": {
    "id": "mok9xVk3rEZ1"
   },
   "outputs": [],
   "source": [
    "import tensorflow as tf"
   ]
  },
  {
   "cell_type": "code",
   "execution_count": 4,
   "metadata": {
    "id": "5KrkZU6prpkr"
   },
   "outputs": [],
   "source": [
    "from tensorflow.keras.models import Model\n",
    "from tensorflow.keras.layers import Dropout,Input,Flatten,Dense,MaxPooling2D\n",
    "from tensorflow.keras.preprocessing.image import ImageDataGenerator\n",
    "from tensorflow.keras.applications import VGG19\n",
    "from tensorflow.keras.callbacks import ModelCheckpoint,EarlyStopping, ReduceLROnPlateau\n",
    "\n",
    "\n"
   ]
  },
  {
   "cell_type": "code",
   "execution_count": 5,
   "metadata": {
    "colab": {
     "base_uri": "https://localhost:8080/"
    },
    "id": "Zf6lomNfruzj",
    "outputId": "b96dfb91-bfb6-4c89-a464-cf176b3e2c31"
   },
   "outputs": [
    {
     "name": "stderr",
     "output_type": "stream",
     "text": [
      "WARNING: Retrying (Retry(total=4, connect=None, read=None, redirect=None, status=None)) after connection broken by 'NewConnectionError('<pip._vendor.urllib3.connection.HTTPSConnection object at 0x000001A456C84E50>: Failed to establish a new connection: [Errno 11001] getaddrinfo failed')': /simple/patool/\n",
      "WARNING: Retrying (Retry(total=3, connect=None, read=None, redirect=None, status=None)) after connection broken by 'NewConnectionError('<pip._vendor.urllib3.connection.HTTPSConnection object at 0x000001A456CA71C0>: Failed to establish a new connection: [Errno 11001] getaddrinfo failed')': /simple/patool/\n",
      "WARNING: Retrying (Retry(total=2, connect=None, read=None, redirect=None, status=None)) after connection broken by 'NewConnectionError('<pip._vendor.urllib3.connection.HTTPSConnection object at 0x000001A456CA74C0>: Failed to establish a new connection: [Errno 11001] getaddrinfo failed')': /simple/patool/\n",
      "WARNING: Retrying (Retry(total=1, connect=None, read=None, redirect=None, status=None)) after connection broken by 'NewConnectionError('<pip._vendor.urllib3.connection.HTTPSConnection object at 0x000001A456CA7670>: Failed to establish a new connection: [Errno 11001] getaddrinfo failed')': /simple/patool/\n",
      "WARNING: Retrying (Retry(total=0, connect=None, read=None, redirect=None, status=None)) after connection broken by 'NewConnectionError('<pip._vendor.urllib3.connection.HTTPSConnection object at 0x000001A456CA7820>: Failed to establish a new connection: [Errno 11001] getaddrinfo failed')': /simple/patool/\n",
      "ERROR: Could not find a version that satisfies the requirement patool (from versions: none)\n",
      "ERROR: No matching distribution found for patool\n"
     ]
    }
   ],
   "source": [
    "!pip install patool"
   ]
  },
  {
   "cell_type": "code",
   "execution_count": 6,
   "metadata": {
    "colab": {
     "base_uri": "https://localhost:8080/",
     "height": 105
    },
    "id": "xEpputwErrld",
    "outputId": "4586bb2d-8600-4d18-881d-ba825d37d421"
   },
   "outputs": [
    {
     "ename": "ModuleNotFoundError",
     "evalue": "No module named 'patoolib'",
     "output_type": "error",
     "traceback": [
      "\u001b[1;31m---------------------------------------------------------------------------\u001b[0m",
      "\u001b[1;31mModuleNotFoundError\u001b[0m                       Traceback (most recent call last)",
      "Input \u001b[1;32mIn [6]\u001b[0m, in \u001b[0;36m<cell line: 1>\u001b[1;34m()\u001b[0m\n\u001b[1;32m----> 1\u001b[0m \u001b[38;5;28;01mimport\u001b[39;00m \u001b[38;5;21;01mpatoolib\u001b[39;00m\n\u001b[0;32m      2\u001b[0m patoolib\u001b[38;5;241m.\u001b[39mextract_archive(\u001b[38;5;124m\"\u001b[39m\u001b[38;5;124m/content/drive/MyDrive/output.rar\u001b[39m\u001b[38;5;124m\"\u001b[39m, outdir\u001b[38;5;241m=\u001b[39m\u001b[38;5;124m\"\u001b[39m\u001b[38;5;124m/content/output\u001b[39m\u001b[38;5;124m\"\u001b[39m)\n",
      "\u001b[1;31mModuleNotFoundError\u001b[0m: No module named 'patoolib'"
     ]
    }
   ],
   "source": [
    "import patoolib\n",
    "patoolib.extract_archive(\"/content/drive/MyDrive/output.rar\", outdir=\"/content/output\")"
   ]
  },
  {
   "cell_type": "code",
   "execution_count": 6,
   "metadata": {
    "colab": {
     "base_uri": "https://localhost:8080/"
    },
    "id": "py5Hk0-yrh1J",
    "outputId": "52243441-ec20-4cfe-bba2-89f4e70629d1"
   },
   "outputs": [
    {
     "name": "stderr",
     "output_type": "stream",
     "text": [
      "WARNING:tensorflow:From <ipython-input-6-4a3f57d5652e>:2: is_gpu_available (from tensorflow.python.framework.test_util) is deprecated and will be removed in a future version.\n",
      "Instructions for updating:\n",
      "Use `tf.config.list_physical_devices('GPU')` instead.\n"
     ]
    },
    {
     "data": {
      "text/plain": [
       "True"
      ]
     },
     "execution_count": 6,
     "metadata": {},
     "output_type": "execute_result"
    }
   ],
   "source": [
    "import tensorflow as tf\n",
    "tf.test.is_gpu_available()"
   ]
  },
  {
   "cell_type": "code",
   "execution_count": 11,
   "metadata": {
    "id": "vDoHvFjd-WNk"
   },
   "outputs": [],
   "source": [
    "\n",
    "train_datagen= ImageDataGenerator(rescale=1./255, rotation_range=0.2,shear_range=0.2,\n",
    "    zoom_range=0.2,width_shift_range=0.2,\n",
    "    height_shift_range=0.2)\n",
    "\n"
   ]
  },
  {
   "cell_type": "code",
   "execution_count": 13,
   "metadata": {
    "id": "MGhuIblo-8GA"
   },
   "outputs": [],
   "source": [
    "size=8"
   ]
  },
  {
   "cell_type": "code",
   "execution_count": 14,
   "metadata": {
    "colab": {
     "base_uri": "https://localhost:8080/"
    },
    "id": "lUT3ZbKi-W1E",
    "outputId": "c8788160-262a-48fa-f684-471d7c47a1fb"
   },
   "outputs": [
    {
     "name": "stdout",
     "output_type": "stream",
     "text": [
      "Found 67917 images belonging to 2 classes.\n"
     ]
    }
   ],
   "source": [
    "train_data= train_datagen.flow_from_directory(r'/content/output/output/train',\n",
    "                                target_size=(80,80),batch_size=size,class_mode='categorical',subset='training' )\n"
   ]
  },
  {
   "cell_type": "code",
   "execution_count": 23,
   "metadata": {
    "colab": {
     "base_uri": "https://localhost:8080/"
    },
    "id": "gnuwPjMe-W4q",
    "outputId": "ae052d2a-a03a-4355-f68d-c933f526bee2"
   },
   "outputs": [
    {
     "name": "stdout",
     "output_type": "stream",
     "text": [
      "Found 8489 images belonging to 2 classes.\n"
     ]
    }
   ],
   "source": [
    "val_datagen = ImageDataGenerator(rescale=1./255)\n",
    "\n",
    "validation_data = val_datagen.flow_from_directory(\n",
    "        '/content/output/output/val',\n",
    "        target_size=(80,80),\n",
    "        batch_size=size,\n",
    "        class_mode='categorical',\n",
    "        \n",
    ")"
   ]
  },
  {
   "cell_type": "code",
   "execution_count": 24,
   "metadata": {
    "colab": {
     "base_uri": "https://localhost:8080/"
    },
    "id": "9XOibsAs_9pd",
    "outputId": "37a31689-308c-419a-d98c-ebc547d587b6"
   },
   "outputs": [
    {
     "name": "stdout",
     "output_type": "stream",
     "text": [
      "Found 8492 images belonging to 2 classes.\n"
     ]
    }
   ],
   "source": [
    "test_datagen = ImageDataGenerator(rescale=1./255)\n",
    "test_data = test_datagen.flow_from_directory(r'/content/output/output/test',\n",
    "                                target_size=(80,80),batch_size=size,class_mode='categorical')"
   ]
  },
  {
   "cell_type": "code",
   "execution_count": 27,
   "metadata": {
    "id": "TL15Mi-P-fvf"
   },
   "outputs": [],
   "source": [
    "bmodel = VGG19(include_top=False, weights='imagenet', input_tensor=Input(shape=(80,80,3)))\n",
    "model = bmodel.output\n",
    "model = Flatten()(model)\n",
    "model = Dense(64, activation='relu')(model)\n",
    "model = Dropout(0.5)(model)\n",
    "model = Dense(2,activation= 'softmax')(model)\n",
    "\n",
    "model = Model(inputs=bmodel.input, outputs= model)\n",
    "for layer in bmodel.layers:\n",
    "    layer.trainable = False"
   ]
  },
  {
   "cell_type": "code",
   "execution_count": 28,
   "metadata": {
    "colab": {
     "base_uri": "https://localhost:8080/"
    },
    "id": "sKSkc6mG-fyI",
    "outputId": "c00c1fcb-3b6d-4275-9c6e-e1105836b9f2"
   },
   "outputs": [
    {
     "name": "stdout",
     "output_type": "stream",
     "text": [
      "Model: \"model\"\n",
      "_________________________________________________________________\n",
      " Layer (type)                Output Shape              Param #   \n",
      "=================================================================\n",
      " input_2 (InputLayer)        [(None, 80, 80, 3)]       0         \n",
      "                                                                 \n",
      " block1_conv1 (Conv2D)       (None, 80, 80, 64)        1792      \n",
      "                                                                 \n",
      " block1_conv2 (Conv2D)       (None, 80, 80, 64)        36928     \n",
      "                                                                 \n",
      " block1_pool (MaxPooling2D)  (None, 40, 40, 64)        0         \n",
      "                                                                 \n",
      " block2_conv1 (Conv2D)       (None, 40, 40, 128)       73856     \n",
      "                                                                 \n",
      " block2_conv2 (Conv2D)       (None, 40, 40, 128)       147584    \n",
      "                                                                 \n",
      " block2_pool (MaxPooling2D)  (None, 20, 20, 128)       0         \n",
      "                                                                 \n",
      " block3_conv1 (Conv2D)       (None, 20, 20, 256)       295168    \n",
      "                                                                 \n",
      " block3_conv2 (Conv2D)       (None, 20, 20, 256)       590080    \n",
      "                                                                 \n",
      " block3_conv3 (Conv2D)       (None, 20, 20, 256)       590080    \n",
      "                                                                 \n",
      " block3_conv4 (Conv2D)       (None, 20, 20, 256)       590080    \n",
      "                                                                 \n",
      " block3_pool (MaxPooling2D)  (None, 10, 10, 256)       0         \n",
      "                                                                 \n",
      " block4_conv1 (Conv2D)       (None, 10, 10, 512)       1180160   \n",
      "                                                                 \n",
      " block4_conv2 (Conv2D)       (None, 10, 10, 512)       2359808   \n",
      "                                                                 \n",
      " block4_conv3 (Conv2D)       (None, 10, 10, 512)       2359808   \n",
      "                                                                 \n",
      " block4_conv4 (Conv2D)       (None, 10, 10, 512)       2359808   \n",
      "                                                                 \n",
      " block4_pool (MaxPooling2D)  (None, 5, 5, 512)         0         \n",
      "                                                                 \n",
      " block5_conv1 (Conv2D)       (None, 5, 5, 512)         2359808   \n",
      "                                                                 \n",
      " block5_conv2 (Conv2D)       (None, 5, 5, 512)         2359808   \n",
      "                                                                 \n",
      " block5_conv3 (Conv2D)       (None, 5, 5, 512)         2359808   \n",
      "                                                                 \n",
      " block5_conv4 (Conv2D)       (None, 5, 5, 512)         2359808   \n",
      "                                                                 \n",
      " block5_pool (MaxPooling2D)  (None, 2, 2, 512)         0         \n",
      "                                                                 \n",
      " flatten_1 (Flatten)         (None, 2048)              0         \n",
      "                                                                 \n",
      " dense (Dense)               (None, 64)                131136    \n",
      "                                                                 \n",
      " dropout (Dropout)           (None, 64)                0         \n",
      "                                                                 \n",
      " dense_1 (Dense)             (None, 2)                 130       \n",
      "                                                                 \n",
      "=================================================================\n",
      "Total params: 20,155,650\n",
      "Trainable params: 131,266\n",
      "Non-trainable params: 20,024,384\n",
      "_________________________________________________________________\n"
     ]
    }
   ],
   "source": [
    "model.summary()\n"
   ]
  },
  {
   "cell_type": "code",
   "execution_count": 30,
   "metadata": {
    "id": "Jd29NMmQ-f0s"
   },
   "outputs": [],
   "source": [
    "ckpt = ModelCheckpoint(r'/content/model/model.h5',\n",
    "                            monitor='val_loss',save_best_only=True,verbose=3)\n",
    "\n",
    "estop = EarlyStopping(monitor = 'val_loss', patience=7, verbose= 3, restore_best_weights=True)\n",
    "\n",
    "lr = ReduceLROnPlateau(monitor= 'val_loss', patience=3, verbose= 3, )\n",
    "\n",
    "callbacks=[ckpt,estop,lr]"
   ]
  },
  {
   "cell_type": "code",
   "execution_count": 31,
   "metadata": {
    "colab": {
     "base_uri": "https://localhost:8080/"
    },
    "id": "DprPHKcL-f3T",
    "outputId": "9ad3ecac-7300-4ac5-f563-04aa4d3ebe76"
   },
   "outputs": [
    {
     "name": "stderr",
     "output_type": "stream",
     "text": [
      "<ipython-input-31-4576f270b915>:3: UserWarning: `Model.fit_generator` is deprecated and will be removed in a future version. Please use `Model.fit`, which supports generators.\n",
      "  model.fit_generator(train_data,steps_per_epoch=train_data.samples//size,\n"
     ]
    },
    {
     "name": "stdout",
     "output_type": "stream",
     "text": [
      "Epoch 1/50\n",
      "8488/8489 [============================>.] - ETA: 0s - loss: 0.4539 - accuracy: 0.7790\n",
      "Epoch 1: val_loss improved from inf to 0.29020, saving model to /content/model/model.h5\n",
      "8489/8489 [==============================] - 244s 28ms/step - loss: 0.4539 - accuracy: 0.7790 - val_loss: 0.2902 - val_accuracy: 0.8651 - lr: 0.0010\n",
      "Epoch 2/50\n",
      "8488/8489 [============================>.] - ETA: 0s - loss: 0.3897 - accuracy: 0.8263\n",
      "Epoch 2: val_loss improved from 0.29020 to 0.27349, saving model to /content/model/model.h5\n",
      "8489/8489 [==============================] - 226s 27ms/step - loss: 0.3897 - accuracy: 0.8263 - val_loss: 0.2735 - val_accuracy: 0.8791 - lr: 0.0010\n",
      "Epoch 3/50\n",
      "8489/8489 [==============================] - ETA: 0s - loss: 0.3663 - accuracy: 0.8374\n",
      "Epoch 3: val_loss improved from 0.27349 to 0.23544, saving model to /content/model/model.h5\n",
      "8489/8489 [==============================] - 226s 27ms/step - loss: 0.3663 - accuracy: 0.8374 - val_loss: 0.2354 - val_accuracy: 0.8931 - lr: 0.0010\n",
      "Epoch 4/50\n",
      "8487/8489 [============================>.] - ETA: 0s - loss: 0.3425 - accuracy: 0.8512\n",
      "Epoch 4: val_loss improved from 0.23544 to 0.22761, saving model to /content/model/model.h5\n",
      "8489/8489 [==============================] - 224s 26ms/step - loss: 0.3426 - accuracy: 0.8512 - val_loss: 0.2276 - val_accuracy: 0.8983 - lr: 0.0010\n",
      "Epoch 5/50\n",
      "8488/8489 [============================>.] - ETA: 0s - loss: 0.3319 - accuracy: 0.8555\n",
      "Epoch 5: val_loss did not improve from 0.22761\n",
      "8489/8489 [==============================] - 227s 27ms/step - loss: 0.3319 - accuracy: 0.8555 - val_loss: 0.2419 - val_accuracy: 0.8864 - lr: 0.0010\n",
      "Epoch 6/50\n",
      "8489/8489 [==============================] - ETA: 0s - loss: 0.3239 - accuracy: 0.8583\n",
      "Epoch 6: val_loss improved from 0.22761 to 0.19621, saving model to /content/model/model.h5\n",
      "8489/8489 [==============================] - 225s 27ms/step - loss: 0.3239 - accuracy: 0.8583 - val_loss: 0.1962 - val_accuracy: 0.9204 - lr: 0.0010\n",
      "Epoch 7/50\n",
      "8488/8489 [============================>.] - ETA: 0s - loss: 0.3149 - accuracy: 0.8652\n",
      "Epoch 7: val_loss did not improve from 0.19621\n",
      "8489/8489 [==============================] - 224s 26ms/step - loss: 0.3149 - accuracy: 0.8652 - val_loss: 0.2104 - val_accuracy: 0.9087 - lr: 0.0010\n",
      "Epoch 8/50\n",
      "8489/8489 [==============================] - ETA: 0s - loss: 0.3043 - accuracy: 0.8708\n",
      "Epoch 8: val_loss improved from 0.19621 to 0.18732, saving model to /content/model/model.h5\n",
      "8489/8489 [==============================] - 218s 26ms/step - loss: 0.3043 - accuracy: 0.8708 - val_loss: 0.1873 - val_accuracy: 0.9272 - lr: 0.0010\n",
      "Epoch 9/50\n",
      "8488/8489 [============================>.] - ETA: 0s - loss: 0.3000 - accuracy: 0.8752\n",
      "Epoch 9: val_loss improved from 0.18732 to 0.18593, saving model to /content/model/model.h5\n",
      "8489/8489 [==============================] - 224s 26ms/step - loss: 0.3000 - accuracy: 0.8752 - val_loss: 0.1859 - val_accuracy: 0.9291 - lr: 0.0010\n",
      "Epoch 10/50\n",
      "8489/8489 [==============================] - ETA: 0s - loss: 0.2999 - accuracy: 0.8736\n",
      "Epoch 10: val_loss improved from 0.18593 to 0.18259, saving model to /content/model/model.h5\n",
      "8489/8489 [==============================] - 223s 26ms/step - loss: 0.2999 - accuracy: 0.8736 - val_loss: 0.1826 - val_accuracy: 0.9234 - lr: 0.0010\n",
      "Epoch 11/50\n",
      "8489/8489 [==============================] - ETA: 0s - loss: 0.2869 - accuracy: 0.8794\n",
      "Epoch 11: val_loss improved from 0.18259 to 0.16680, saving model to /content/model/model.h5\n",
      "8489/8489 [==============================] - 227s 27ms/step - loss: 0.2869 - accuracy: 0.8794 - val_loss: 0.1668 - val_accuracy: 0.9345 - lr: 0.0010\n",
      "Epoch 12/50\n",
      "8489/8489 [==============================] - ETA: 0s - loss: 0.2864 - accuracy: 0.8799\n",
      "Epoch 12: val_loss did not improve from 0.16680\n",
      "8489/8489 [==============================] - 222s 26ms/step - loss: 0.2864 - accuracy: 0.8799 - val_loss: 0.1853 - val_accuracy: 0.9202 - lr: 0.0010\n",
      "Epoch 13/50\n",
      "8489/8489 [==============================] - ETA: 0s - loss: 0.2870 - accuracy: 0.8808\n",
      "Epoch 13: val_loss did not improve from 0.16680\n",
      "8489/8489 [==============================] - 222s 26ms/step - loss: 0.2870 - accuracy: 0.8808 - val_loss: 0.2082 - val_accuracy: 0.9053 - lr: 0.0010\n",
      "Epoch 14/50\n",
      "8488/8489 [============================>.] - ETA: 0s - loss: 0.2809 - accuracy: 0.8837\n",
      "Epoch 14: val_loss did not improve from 0.16680\n",
      "\n",
      "Epoch 14: ReduceLROnPlateau reducing learning rate to 0.00010000000474974513.\n",
      "8489/8489 [==============================] - 221s 26ms/step - loss: 0.2809 - accuracy: 0.8837 - val_loss: 0.1808 - val_accuracy: 0.9260 - lr: 0.0010\n",
      "Epoch 15/50\n",
      "8489/8489 [==============================] - ETA: 0s - loss: 0.2520 - accuracy: 0.8982\n",
      "Epoch 15: val_loss improved from 0.16680 to 0.16064, saving model to /content/model/model.h5\n",
      "8489/8489 [==============================] - 220s 26ms/step - loss: 0.2520 - accuracy: 0.8982 - val_loss: 0.1606 - val_accuracy: 0.9351 - lr: 1.0000e-04\n",
      "Epoch 16/50\n",
      "8488/8489 [============================>.] - ETA: 0s - loss: 0.2496 - accuracy: 0.9012\n",
      "Epoch 16: val_loss improved from 0.16064 to 0.15264, saving model to /content/model/model.h5\n",
      "8489/8489 [==============================] - 219s 26ms/step - loss: 0.2496 - accuracy: 0.9012 - val_loss: 0.1526 - val_accuracy: 0.9413 - lr: 1.0000e-04\n",
      "Epoch 17/50\n",
      "8487/8489 [============================>.] - ETA: 0s - loss: 0.2473 - accuracy: 0.9016\n",
      "Epoch 17: val_loss did not improve from 0.15264\n",
      "8489/8489 [==============================] - 219s 26ms/step - loss: 0.2473 - accuracy: 0.9016 - val_loss: 0.1572 - val_accuracy: 0.9381 - lr: 1.0000e-04\n",
      "Epoch 18/50\n",
      "8488/8489 [============================>.] - ETA: 0s - loss: 0.2472 - accuracy: 0.9023\n",
      "Epoch 18: val_loss improved from 0.15264 to 0.15028, saving model to /content/model/model.h5\n",
      "8489/8489 [==============================] - 221s 26ms/step - loss: 0.2472 - accuracy: 0.9023 - val_loss: 0.1503 - val_accuracy: 0.9432 - lr: 1.0000e-04\n",
      "Epoch 19/50\n",
      "8489/8489 [==============================] - ETA: 0s - loss: 0.2443 - accuracy: 0.9030\n",
      "Epoch 19: val_loss did not improve from 0.15028\n",
      "8489/8489 [==============================] - 221s 26ms/step - loss: 0.2443 - accuracy: 0.9030 - val_loss: 0.1569 - val_accuracy: 0.9376 - lr: 1.0000e-04\n",
      "Epoch 20/50\n",
      "8487/8489 [============================>.] - ETA: 0s - loss: 0.2415 - accuracy: 0.9029\n",
      "Epoch 20: val_loss did not improve from 0.15028\n",
      "8489/8489 [==============================] - 226s 27ms/step - loss: 0.2414 - accuracy: 0.9029 - val_loss: 0.1609 - val_accuracy: 0.9356 - lr: 1.0000e-04\n",
      "Epoch 21/50\n",
      "8488/8489 [============================>.] - ETA: 0s - loss: 0.2456 - accuracy: 0.9021\n",
      "Epoch 21: val_loss did not improve from 0.15028\n",
      "\n",
      "Epoch 21: ReduceLROnPlateau reducing learning rate to 1.0000000474974514e-05.\n",
      "8489/8489 [==============================] - 227s 27ms/step - loss: 0.2457 - accuracy: 0.9021 - val_loss: 0.1531 - val_accuracy: 0.9406 - lr: 1.0000e-04\n",
      "Epoch 22/50\n",
      "8488/8489 [============================>.] - ETA: 0s - loss: 0.2409 - accuracy: 0.9041\n",
      "Epoch 22: val_loss did not improve from 0.15028\n",
      "8489/8489 [==============================] - 225s 26ms/step - loss: 0.2410 - accuracy: 0.9041 - val_loss: 0.1563 - val_accuracy: 0.9380 - lr: 1.0000e-05\n",
      "Epoch 23/50\n",
      "8489/8489 [==============================] - ETA: 0s - loss: 0.2384 - accuracy: 0.9058\n",
      "Epoch 23: val_loss did not improve from 0.15028\n",
      "8489/8489 [==============================] - 221s 26ms/step - loss: 0.2384 - accuracy: 0.9058 - val_loss: 0.1561 - val_accuracy: 0.9381 - lr: 1.0000e-05\n",
      "Epoch 24/50\n",
      "8489/8489 [==============================] - ETA: 0s - loss: 0.2386 - accuracy: 0.9054\n",
      "Epoch 24: val_loss did not improve from 0.15028\n",
      "\n",
      "Epoch 24: ReduceLROnPlateau reducing learning rate to 1.0000000656873453e-06.\n",
      "8489/8489 [==============================] - 220s 26ms/step - loss: 0.2386 - accuracy: 0.9054 - val_loss: 0.1567 - val_accuracy: 0.9377 - lr: 1.0000e-05\n",
      "Epoch 25/50\n",
      "8489/8489 [==============================] - ETA: 0s - loss: 0.2410 - accuracy: 0.9051\n",
      "Epoch 25: val_loss did not improve from 0.15028\n",
      "Restoring model weights from the end of the best epoch: 18.\n",
      "8489/8489 [==============================] - 218s 26ms/step - loss: 0.2410 - accuracy: 0.9051 - val_loss: 0.1561 - val_accuracy: 0.9378 - lr: 1.0000e-06\n",
      "Epoch 25: early stopping\n"
     ]
    },
    {
     "data": {
      "text/plain": [
       "<keras.callbacks.History at 0x7f1d7e745490>"
      ]
     },
     "execution_count": 31,
     "metadata": {},
     "output_type": "execute_result"
    }
   ],
   "source": [
    "model.compile(optimizer='Adam', loss='categorical_crossentropy',metrics=['accuracy'])\n",
    "\n",
    "model.fit_generator(train_data,steps_per_epoch=train_data.samples//size,\n",
    "                   validation_data=validation_data,\n",
    "                   validation_steps=validation_data.samples//size,\n",
    "                   callbacks=callbacks,\n",
    "                    epochs=50)"
   ]
  },
  {
   "cell_type": "code",
   "execution_count": 38,
   "metadata": {
    "colab": {
     "base_uri": "https://localhost:8080/"
    },
    "id": "BHwUCsA2CFN3",
    "outputId": "db7f47ba-2b20-46d2-cabd-edd5b9ea1a89"
   },
   "outputs": [
    {
     "name": "stderr",
     "output_type": "stream",
     "text": [
      "<ipython-input-38-de86a5e11686>:1: UserWarning: `Model.evaluate_generator` is deprecated and will be removed in a future version. Please use `Model.evaluate`, which supports generators.\n",
      "  training_loss,training_accuracy = model.evaluate_generator(train_data)\n"
     ]
    },
    {
     "name": "stdout",
     "output_type": "stream",
     "text": [
      "0.9123783707618713\n",
      "0.22021378576755524\n"
     ]
    }
   ],
   "source": [
    "training_loss,training_accuracy = model.evaluate_generator(train_data)\n",
    "print(training_accuracy)\n",
    "print(training_loss)"
   ]
  },
  {
   "cell_type": "code",
   "execution_count": 39,
   "metadata": {
    "colab": {
     "base_uri": "https://localhost:8080/"
    },
    "id": "Q_L0iRgYCFQP",
    "outputId": "ee00737b-01a7-4140-a53f-6c4fe75255d7"
   },
   "outputs": [
    {
     "name": "stderr",
     "output_type": "stream",
     "text": [
      "<ipython-input-39-565182f453ea>:1: UserWarning: `Model.evaluate_generator` is deprecated and will be removed in a future version. Please use `Model.evaluate`, which supports generators.\n",
      "  testing_loss, testing_accuracy = model.evaluate_generator(test_data)\n"
     ]
    },
    {
     "name": "stdout",
     "output_type": "stream",
     "text": [
      "0.9406500458717346\n",
      "0.15508748590946198\n"
     ]
    }
   ],
   "source": [
    "testing_loss, testing_accuracy = model.evaluate_generator(test_data)\n",
    "print(testing_accuracy)\n",
    "print(testing_loss)"
   ]
  },
  {
   "cell_type": "code",
   "execution_count": 40,
   "metadata": {
    "colab": {
     "base_uri": "https://localhost:8080/"
    },
    "id": "1f_5vad6CFTX",
    "outputId": "89aa0431-607f-42a5-f21f-781ee258a5e4"
   },
   "outputs": [
    {
     "name": "stderr",
     "output_type": "stream",
     "text": [
      "<ipython-input-40-d5c3c6ff411f>:1: UserWarning: `Model.evaluate_generator` is deprecated and will be removed in a future version. Please use `Model.evaluate`, which supports generators.\n",
      "  val_loss,val_accuracy = model.evaluate_generator(validation_data)\n"
     ]
    },
    {
     "name": "stdout",
     "output_type": "stream",
     "text": [
      "0.9432206153869629\n",
      "0.1502874344587326\n"
     ]
    }
   ],
   "source": [
    "val_loss,val_accuracy = model.evaluate_generator(validation_data)\n",
    "print(val_accuracy)\n",
    "print(val_loss)"
   ]
  },
  {
   "cell_type": "code",
   "execution_count": 41,
   "metadata": {
    "colab": {
     "base_uri": "https://localhost:8080/"
    },
    "id": "HrVh31VsCFW5",
    "outputId": "d320c786-4514-4d3a-e43f-8bc0d6976635"
   },
   "outputs": [
    {
     "name": "stdout",
     "output_type": "stream",
     "text": [
      "hello\n"
     ]
    }
   ],
   "source": []
  },
  {
   "cell_type": "code",
   "execution_count": null,
   "metadata": {
    "id": "xQv3bIQUFn24"
   },
   "outputs": [],
   "source": []
  }
 ],
 "metadata": {
  "accelerator": "GPU",
  "colab": {
   "provenance": []
  },
  "gpuClass": "standard",
  "kernelspec": {
   "display_name": "Python 3 (ipykernel)",
   "language": "python",
   "name": "python3"
  },
  "language_info": {
   "codemirror_mode": {
    "name": "ipython",
    "version": 3
   },
   "file_extension": ".py",
   "mimetype": "text/x-python",
   "name": "python",
   "nbconvert_exporter": "python",
   "pygments_lexer": "ipython3",
   "version": "3.9.4"
  }
 },
 "nbformat": 4,
 "nbformat_minor": 1
}
